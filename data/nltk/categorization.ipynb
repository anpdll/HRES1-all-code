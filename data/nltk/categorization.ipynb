{
 "cells": [
  {
   "cell_type": "code",
   "execution_count": 1,
   "metadata": {},
   "outputs": [],
   "source": [
    "import re\n",
    "import pandas as pd"
   ]
  },
  {
   "cell_type": "code",
   "execution_count": 12,
   "metadata": {},
   "outputs": [
    {
     "name": "stdout",
     "output_type": "stream",
     "text": [
      "Classification completed and output written to 'output_file.csv'.\n"
     ]
    }
   ],
   "source": [
    "\n",
    "# Define a dictionary to map keywords to categories\n",
    "\n",
    "category_mapping = {\n",
    "    'Glass Furnace': ['glass', 'quartz', 'fiberglass', 'porcelain', 'enamel'],\n",
    "    'F&D Boiler': ['food', 'bread', 'cake', 'cookies', 'crackers', 'chips', 'snacks', 'bacon', 'meat', 'pork', 'pet', 'pretzels', 'beer', 'milk', 'cheese', 'yogurt', 'beverage', 'ice cream', 'mustard', 'horseradish', 'condiments', 'pies', 'cakes', 'gelatin', 'dairy', 'sandwiches', 'buns', 'margarine', 'shortening', 'spices', 'extracts', 'sauces', 'vinaigrettes', 'jellies', 'packaged food', 'rations', 'potato chips', 'corn chips', 'snacks', 'bakery', 'donuts', 'hamburger', 'patties', 'produce'],\n",
    "    'Ceramics Kiln': ['ceramics', 'porcelain', 'enamel', 'pigments', 'ink', 'monolithic', 'refractories', 'blackboards', 'crucibles', 'refractory'],\n",
    "    'Vehicle Manufacturing Oven': ['aluminum', 'steel', 'titanium', 'automotive', 'truck', 'vehicle', 'cab', 'castings', 'forgings', 'powertrain', 'cylinder', 'pistons', 'wheels', 'defense', 'combat', 'transmission', 'propellers', 'aircraft', 'aerospace', 'exhaust', 'brakes', 'rotors', 'drums', 'calipers', 'steering', 'shafts', 'gears', 'differentials', 'lifts', 'farm machinery', 'lift truck', 'enclosures', 'metal forming', 'coating', 'heat treating', 'plating', 'anodizing', 'welding', 'stamping', 'assemblies', 'forgings', 'seals', 'gaskets', 'moldings', 'weatherstrips', 'weatherseals', 'engines', 'generators', 'converters', 'controllers', 'robotic', 'welded', 'blades', 'vanes', 'blisks', 'landing gear', 'fasteners', 'fittings', 'sensors', 'switches', 'control systems', 'suspension', 'bushings', 'bearings', 'dampers', 'shock absorbers', 'struts', 'mezzanines', 'guard rails', 'radiators', 'tubing', 'valves', 'pumps', 'compressors', 'hydraulic', 'pneumatic', 'cylinders', 'metal stampings', 'metal fabrication', 'sheet metal', 'ductwork', 'fans', 'blowers', 'humidifiers', 'air moving', 'heat exchangers', 'exhaust systems', 'silencers', 'catalytic convertors', 'torque convertors', 'clutch assemblies'],\n",
    "    'Chemicals Dryer': ['chemicals', 'ethyl', 'alcohol', 'acrylonitrile', 'butadiene', 'styrene', 'acetonitrile', 'hydrogen', 'cyanide', 'lubricant', 'additives', 'coated', 'organic', 'metal', 'sulfonic', 'acids', 'hydrotope', 'welding', 'consumables', 'thermoset', 'rubber', 'activated', 'carbon', 'wastewater', 'treatment', 'parchment', 'hydraulic', 'hose', 'fittings', 'couplings', 'acid', 'proof', 'liners', 'packing', 'coatings', 'packaging', 'soap', 'synthetics', 'refractory', 'products', 'emulsions', 'color', 'pigments', 'resins', 'thermoset', 'resins', 'dispersions', 'solvents', 'reagents', 'surfactants', 'detergents', 'emulsifiers', 'lubricants', 'oils', 'greases', 'calcium', 'oxide', 'glycerine', 'polymers', 'adhesives', 'sealants', 'caulks', 'inks', 'cleaning', 'chemicals', 'nickel', 'plating', 'zinc', 'plating', 'anodizing', 'chemical', 'coating', 'metallic', 'coating', 'heat', 'resistant', 'coating', 'coil', 'coating', 'lamination', 'asphalt', 'roofing', 'products', 'bituminous', 'concrete', 'rubber', 'chemicals', 'latex', 'resin', 'polymer', 'compounds', 'pellets', 'plastics', 'thermoplastics', 'thermoplastic', 'polymers', 'thermoplastic', 'resins', 'silicon', 'powder', 'silicone', 'release', 'liners', 'conductive', 'polymers', 'color', 'concentrates', 'polypropylene', 'compounding', 'polymer', 'sealants', 'calcium', 'carbide', 'embalming', 'chemicals', 'heparin', 'nitrogen', 'manifolds', 'gas', 'springs', 'environmental', 'systems', 'emissions', 'monitoring', 'aqueous', 'degreasing', 'washers', 'microchannel', 'technology', 'ultrasonic', 'machining', 'silicon', 'ceramics', 'glass', 'metalworking', 'vacuum', 'deposition', 'machines', 'targets', 'photoreceptors', 'thermal', 'spray', 'coating']\n",
    "}\n",
    "\n",
    "# Define a function to classify an industry based on its product description\n",
    "def classify_industry(product_description):\n",
    "    for category, keywords in category_mapping.items():\n",
    "        pattern = r\"|\".join(keywords)\n",
    "        if re.search(pattern, product_description, re.IGNORECASE):\n",
    "            return category\n",
    "    return \"Uncategorized\"\n",
    "\n",
    "# Read the CSV file into a pandas DataFrame\n",
    "df = pd.read_csv('your_file.csv')\n",
    "\n",
    "# Apply the classify_industry function to the \"PRODUCTS\" column\n",
    "df['Category'] = df['PRODUCTS'].apply(classify_industry)\n",
    "\n",
    "# Write the modified DataFrame to a new CSV file\n",
    "df.to_csv('Categorized.csv', index=False)\n",
    "\n",
    "print(\"Classification completed and output written to 'output_file.csv'.\")"
   ]
  }
 ],
 "metadata": {
  "kernelspec": {
   "display_name": "Python 3",
   "language": "python",
   "name": "python3"
  },
  "language_info": {
   "codemirror_mode": {
    "name": "ipython",
    "version": 3
   },
   "file_extension": ".py",
   "mimetype": "text/x-python",
   "name": "python",
   "nbconvert_exporter": "python",
   "pygments_lexer": "ipython3",
   "version": "3.11.4"
  }
 },
 "nbformat": 4,
 "nbformat_minor": 2
}
